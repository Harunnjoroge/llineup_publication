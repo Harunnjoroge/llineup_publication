{
 "cells": [
  {
   "cell_type": "markdown",
   "id": "e71eca07",
   "metadata": {},
   "source": [
    "# Extracting whole genome genotype data \n",
    "\n",
    "This is a script to extract genotypes from whole genomes of *An.gambiae* collected during the LLINEUP trial that was conducted in Uganda from 2017-2019.  \n",
    "\n"
   ]
  },
  {
   "cell_type": "code",
   "execution_count": 1,
   "id": "75518893",
   "metadata": {},
   "outputs": [],
   "source": [
    "#Install and load packages\n",
    "import malariagen_data\n",
    "import os\n",
    "import numpy as np\n",
    "import pandas as pd\n",
    "import allel\n",
    "import xarray as xr\n",
    "import glob"
   ]
  },
  {
   "cell_type": "code",
   "execution_count": null,
   "id": "2c1f3c01",
   "metadata": {
    "scrolled": true
   },
   "outputs": [],
   "source": [
    "\n",
    "ag3 = malariagen_data.Ag3(pre = True)"
   ]
  },
  {
   "cell_type": "code",
   "execution_count": null,
   "id": "42cf1d7f",
   "metadata": {},
   "outputs": [],
   "source": [
    "\n",
    "#function to extract biallelic genotypes\n",
    "\n",
    "def extract_and_filter_snps(region, maf_threshold,output_filename):\n",
    "    \n",
    "    array_snps = ag3.snp_calls(region=region,\n",
    "                               sample_sets=[\"1288-VO-UG-DONNELLY-VMF00168\",\"1288-VO-UG-DONNELLY-VMF00219\"],\n",
    "                               sample_query=(\"aim_species == 'gambiae'\"),\n",
    "                               site_mask='gamb_colu' )\n",
    "    \n",
    "    gt = allel.GenotypeArray(array_snps['call_genotype'])\n",
    "    \n",
    "    no_missing = gt.count_missing(1) == 0\n",
    "    gt_freq=gt.count_alleles().to_frequencies()\n",
    "    which_pos = (np.max(gt_freq,1) < (1 - maf_threshold)) & no_missing\n",
    "    gt_filtered = gt[which_pos,:]\n",
    "   \n",
    "    gt_biallelic = np.sum(gt_filtered>0,2)\n",
    "    #convert to dataframe\n",
    "    df_gt = pd.DataFrame(gt_biallelic)\n",
    "    pos = array_snps['variant_position'][which_pos]\n",
    "    \n",
    "    chrom = np.array(array_snps.contigs)[array_snps['variant_contig']][which_pos]\n",
    "    #snp_id = np.apply_along_axis(':'.join, 0, [chrom, pos.astype('str')])\n",
    "    snp_id = np.apply_along_axis(lambda x: np.asarray(':'.join(x), dtype = 'object'), 0, [chrom, pos.values.astype('str')])\n",
    "    df_gt.set_index(snp_id, inplace = True)\n",
    "    df_gt.columns=array_snps.sample_id\n",
    "    # Save DataFrame to CSV file\n",
    "    df_gt.to_csv(output_filename)\n",
    "    return(df_gt)\n",
    "    \n",
    "\n"
   ]
  },
  {
   "cell_type": "code",
   "execution_count": null,
   "id": "2a87d211",
   "metadata": {},
   "outputs": [],
   "source": [
    "output_directory = \"/llineup_publication/Data\"\n",
    "\n",
    "regions = ['2L', '2R', '3L', '3R', 'X']\n",
    "\n",
    "# Dictionary comprehension to call the function for each region\n",
    "gt = {region: extract_and_filter_snps(region, 0.02, os.path.join(output_directory, f'gt_{region}.csv')) for region in regions}\n"
   ]
  },
  {
   "cell_type": "code",
   "execution_count": null,
   "id": "bca8f657",
   "metadata": {},
   "outputs": [],
   "source": [
    "#Save genotypes\n",
    "\n",
    "path = \"/llineup_publication/Data\"\n",
    "all_csv = glob.glob(path + \"**/*gt_*.csv\")\n",
    "df_list = [pd.read_csv(filename, index_col=None) for filename in all_csv]\n",
    "df_gt = pd.concat(df_list,axis=0, ignore_index=True)\n",
    "df_gt.to_csv(path+ \"/gt_glm.csv\")"
   ]
  }
 ],
 "metadata": {
  "kernelspec": {
   "display_name": "llineup",
   "language": "python",
   "name": "llineup"
  },
  "language_info": {
   "codemirror_mode": {
    "name": "ipython",
    "version": 3
   },
   "file_extension": ".py",
   "mimetype": "text/x-python",
   "name": "python",
   "nbconvert_exporter": "python",
   "pygments_lexer": "ipython3",
   "version": "3.8.13"
  }
 },
 "nbformat": 4,
 "nbformat_minor": 5
}
