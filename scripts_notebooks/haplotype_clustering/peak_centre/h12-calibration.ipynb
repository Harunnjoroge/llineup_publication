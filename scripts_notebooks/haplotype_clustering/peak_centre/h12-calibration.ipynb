{
 "cells": [
  {
   "cell_type": "markdown",
   "id": "558a69f6-cc5c-4f18-be1f-bb216f865599",
   "metadata": {},
   "source": [
    "# H12 window size calibration"
   ]
  },
  {
   "cell_type": "code",
   "execution_count": 1,
   "id": "b58ec70a",
   "metadata": {
    "tags": [
     "parameters"
    ]
   },
   "outputs": [],
   "source": [
    "# Notebook parameters. Values here are for development only and \n",
    "# will be overridden when running via snakemake and papermill.\n",
    "cohort_id = 'llineup'\n",
    "#cohorts_analysis=\"20230223\"\n",
    "#contigs = ['2L']\n",
    "sample_sets = [\"1288-VO-UG-DONNELLY-VMF00168\",\"1288-VO-UG-DONNELLY-VMF00219\"]\n",
    "sample_query = \"aim_species == 'gambiae' & sex_call == 'F'\"\n",
    "#min_cohort_size = 20\n",
    "#max_cohort_size = 50\n",
    "h12_calibration_contig = '3L'\n",
    "use_gcs_cache = False\n",
    "dask_scheduler = \"threads\"\n",
    "window_sizes = (100, 200, 500, 1000, 2000, 5000, 10000, 20000)\n"
   ]
  },
  {
   "cell_type": "markdown",
   "id": "87a7858c-e05a-47dc-ac14-7dff6afc0789",
   "metadata": {},
   "source": [
    "## Setup"
   ]
  },
  {
   "cell_type": "code",
   "execution_count": 2,
   "id": "a43f9a9b-f202-426f-830e-e430a8f762d7",
   "metadata": {
    "tags": []
   },
   "outputs": [
    {
     "name": "stderr",
     "output_type": "stream",
     "text": [
      "/home/harunnn/.conda/envs/gaard/lib/python3.10/site-packages/anjl/_canonical.py:187: NumbaWarning: The TBB threading layer requires TBB version 2021 update 6 or later i.e., TBB_INTERFACE_VERSION >= 12060. Found TBB_INTERFACE_VERSION = 12050. The TBB threading layer is disabled.\n",
      "  n_threads = get_num_threads()\n"
     ]
    }
   ],
   "source": [
    "import yaml\n",
    "import pandas as pd\n",
    "import malariagen_data\n",
    "from pyprojroot import here\n",
    "import numpy as np\n",
    "import os\n",
    "import dask\n",
    "dask.config.set(scheduler=dask_scheduler);"
   ]
  },
  {
   "cell_type": "code",
   "execution_count": 3,
   "id": "444cbbad-32b5-4e30-8e91-179b2fadaa6b",
   "metadata": {
    "tags": []
   },
   "outputs": [
    {
     "data": {
      "application/javascript": "(function(root) {\n  function now() {\n    return new Date();\n  }\n\n  const force = true;\n\n  if (typeof root._bokeh_onload_callbacks === \"undefined\" || force === true) {\n    root._bokeh_onload_callbacks = [];\n    root._bokeh_is_loading = undefined;\n  }\n\nconst JS_MIME_TYPE = 'application/javascript';\n  const HTML_MIME_TYPE = 'text/html';\n  const EXEC_MIME_TYPE = 'application/vnd.bokehjs_exec.v0+json';\n  const CLASS_NAME = 'output_bokeh rendered_html';\n\n  /**\n   * Render data to the DOM node\n   */\n  function render(props, node) {\n    const script = document.createElement(\"script\");\n    node.appendChild(script);\n  }\n\n  /**\n   * Handle when an output is cleared or removed\n   */\n  function handleClearOutput(event, handle) {\n    const cell = handle.cell;\n\n    const id = cell.output_area._bokeh_element_id;\n    const server_id = cell.output_area._bokeh_server_id;\n    // Clean up Bokeh references\n    if (id != null && id in Bokeh.index) {\n      Bokeh.index[id].model.document.clear();\n      delete Bokeh.index[id];\n    }\n\n    if (server_id !== undefined) {\n      // Clean up Bokeh references\n      const cmd_clean = \"from bokeh.io.state import curstate; print(curstate().uuid_to_server['\" + server_id + \"'].get_sessions()[0].document.roots[0]._id)\";\n      cell.notebook.kernel.execute(cmd_clean, {\n        iopub: {\n          output: function(msg) {\n            const id = msg.content.text.trim();\n            if (id in Bokeh.index) {\n              Bokeh.index[id].model.document.clear();\n              delete Bokeh.index[id];\n            }\n          }\n        }\n      });\n      // Destroy server and session\n      const cmd_destroy = \"import bokeh.io.notebook as ion; ion.destroy_server('\" + server_id + \"')\";\n      cell.notebook.kernel.execute(cmd_destroy);\n    }\n  }\n\n  /**\n   * Handle when a new output is added\n   */\n  function handleAddOutput(event, handle) {\n    const output_area = handle.output_area;\n    const output = handle.output;\n\n    // limit handleAddOutput to display_data with EXEC_MIME_TYPE content only\n    if ((output.output_type != \"display_data\") || (!Object.prototype.hasOwnProperty.call(output.data, EXEC_MIME_TYPE))) {\n      return\n    }\n\n    const toinsert = output_area.element.find(\".\" + CLASS_NAME.split(' ')[0]);\n\n    if (output.metadata[EXEC_MIME_TYPE][\"id\"] !== undefined) {\n      toinsert[toinsert.length - 1].firstChild.textContent = output.data[JS_MIME_TYPE];\n      // store reference to embed id on output_area\n      output_area._bokeh_element_id = output.metadata[EXEC_MIME_TYPE][\"id\"];\n    }\n    if (output.metadata[EXEC_MIME_TYPE][\"server_id\"] !== undefined) {\n      const bk_div = document.createElement(\"div\");\n      bk_div.innerHTML = output.data[HTML_MIME_TYPE];\n      const script_attrs = bk_div.children[0].attributes;\n      for (let i = 0; i < script_attrs.length; i++) {\n        toinsert[toinsert.length - 1].firstChild.setAttribute(script_attrs[i].name, script_attrs[i].value);\n        toinsert[toinsert.length - 1].firstChild.textContent = bk_div.children[0].textContent\n      }\n      // store reference to server id on output_area\n      output_area._bokeh_server_id = output.metadata[EXEC_MIME_TYPE][\"server_id\"];\n    }\n  }\n\n  function register_renderer(events, OutputArea) {\n\n    function append_mime(data, metadata, element) {\n      // create a DOM node to render to\n      const toinsert = this.create_output_subarea(\n        metadata,\n        CLASS_NAME,\n        EXEC_MIME_TYPE\n      );\n      this.keyboard_manager.register_events(toinsert);\n      // Render to node\n      const props = {data: data, metadata: metadata[EXEC_MIME_TYPE]};\n      render(props, toinsert[toinsert.length - 1]);\n      element.append(toinsert);\n      return toinsert\n    }\n\n    /* Handle when an output is cleared or removed */\n    events.on('clear_output.CodeCell', handleClearOutput);\n    events.on('delete.Cell', handleClearOutput);\n\n    /* Handle when a new output is added */\n    events.on('output_added.OutputArea', handleAddOutput);\n\n    /**\n     * Register the mime type and append_mime function with output_area\n     */\n    OutputArea.prototype.register_mime_type(EXEC_MIME_TYPE, append_mime, {\n      /* Is output safe? */\n      safe: true,\n      /* Index of renderer in `output_area.display_order` */\n      index: 0\n    });\n  }\n\n  // register the mime type if in Jupyter Notebook environment and previously unregistered\n  if (root.Jupyter !== undefined) {\n    const events = require('base/js/events');\n    const OutputArea = require('notebook/js/outputarea').OutputArea;\n\n    if (OutputArea.prototype.mime_types().indexOf(EXEC_MIME_TYPE) == -1) {\n      register_renderer(events, OutputArea);\n    }\n  }\n  if (typeof (root._bokeh_timeout) === \"undefined\" || force === true) {\n    root._bokeh_timeout = Date.now() + 5000;\n    root._bokeh_failed_load = false;\n  }\n\n  const NB_LOAD_WARNING = {'data': {'text/html':\n     \"<div style='background-color: #fdd'>\\n\"+\n     \"<p>\\n\"+\n     \"BokehJS does not appear to have successfully loaded. If loading BokehJS from CDN, this \\n\"+\n     \"may be due to a slow or bad network connection. Possible fixes:\\n\"+\n     \"</p>\\n\"+\n     \"<ul>\\n\"+\n     \"<li>re-rerun `output_notebook()` to attempt to load from CDN again, or</li>\\n\"+\n     \"<li>use INLINE resources instead, as so:</li>\\n\"+\n     \"</ul>\\n\"+\n     \"<code>\\n\"+\n     \"from bokeh.resources import INLINE\\n\"+\n     \"output_notebook(resources=INLINE)\\n\"+\n     \"</code>\\n\"+\n     \"</div>\"}};\n\n  function display_loaded() {\n    const el = document.getElementById(null);\n    if (el != null) {\n      el.textContent = \"BokehJS is loading...\";\n    }\n    if (root.Bokeh !== undefined) {\n      if (el != null) {\n        el.textContent = \"BokehJS \" + root.Bokeh.version + \" successfully loaded.\";\n      }\n    } else if (Date.now() < root._bokeh_timeout) {\n      setTimeout(display_loaded, 100)\n    }\n  }\n\n  function run_callbacks() {\n    try {\n      root._bokeh_onload_callbacks.forEach(function(callback) {\n        if (callback != null)\n          callback();\n      });\n    } finally {\n      delete root._bokeh_onload_callbacks\n    }\n    console.debug(\"Bokeh: all callbacks have finished\");\n  }\n\n  function load_libs(css_urls, js_urls, callback) {\n    if (css_urls == null) css_urls = [];\n    if (js_urls == null) js_urls = [];\n\n    root._bokeh_onload_callbacks.push(callback);\n    if (root._bokeh_is_loading > 0) {\n      console.debug(\"Bokeh: BokehJS is being loaded, scheduling callback at\", now());\n      return null;\n    }\n    if (js_urls == null || js_urls.length === 0) {\n      run_callbacks();\n      return null;\n    }\n    console.debug(\"Bokeh: BokehJS not loaded, scheduling load and callback at\", now());\n    root._bokeh_is_loading = css_urls.length + js_urls.length;\n\n    function on_load() {\n      root._bokeh_is_loading--;\n      if (root._bokeh_is_loading === 0) {\n        console.debug(\"Bokeh: all BokehJS libraries/stylesheets loaded\");\n        run_callbacks()\n      }\n    }\n\n    function on_error(url) {\n      console.error(\"failed to load \" + url);\n    }\n\n    for (let i = 0; i < css_urls.length; i++) {\n      const url = css_urls[i];\n      const element = document.createElement(\"link\");\n      element.onload = on_load;\n      element.onerror = on_error.bind(null, url);\n      element.rel = \"stylesheet\";\n      element.type = \"text/css\";\n      element.href = url;\n      console.debug(\"Bokeh: injecting link tag for BokehJS stylesheet: \", url);\n      document.body.appendChild(element);\n    }\n\n    for (let i = 0; i < js_urls.length; i++) {\n      const url = js_urls[i];\n      const element = document.createElement('script');\n      element.onload = on_load;\n      element.onerror = on_error.bind(null, url);\n      element.async = false;\n      element.src = url;\n      console.debug(\"Bokeh: injecting script tag for BokehJS library: \", url);\n      document.head.appendChild(element);\n    }\n  };\n\n  function inject_raw_css(css) {\n    const element = document.createElement(\"style\");\n    element.appendChild(document.createTextNode(css));\n    document.body.appendChild(element);\n  }\n\n  const js_urls = [\"https://cdn.bokeh.org/bokeh/release/bokeh-2.4.3.min.js\", \"https://cdn.bokeh.org/bokeh/release/bokeh-gl-2.4.3.min.js\", \"https://cdn.bokeh.org/bokeh/release/bokeh-widgets-2.4.3.min.js\", \"https://cdn.bokeh.org/bokeh/release/bokeh-tables-2.4.3.min.js\", \"https://cdn.bokeh.org/bokeh/release/bokeh-mathjax-2.4.3.min.js\"];\n  const css_urls = [];\n\n  const inline_js = [    function(Bokeh) {\n      Bokeh.set_log_level(\"info\");\n    },\nfunction(Bokeh) {\n    }\n  ];\n\n  function run_inline_js() {\n    if (root.Bokeh !== undefined || force === true) {\n          for (let i = 0; i < inline_js.length; i++) {\n      inline_js[i].call(root, root.Bokeh);\n    }\n} else if (Date.now() < root._bokeh_timeout) {\n      setTimeout(run_inline_js, 100);\n    } else if (!root._bokeh_failed_load) {\n      console.log(\"Bokeh: BokehJS failed to load within specified timeout.\");\n      root._bokeh_failed_load = true;\n    } else if (force !== true) {\n      const cell = $(document.getElementById(null)).parents('.cell').data().cell;\n      cell.output_area.append_execute_result(NB_LOAD_WARNING)\n    }\n  }\n\n  if (root._bokeh_is_loading === 0) {\n    console.debug(\"Bokeh: BokehJS loaded, going straight to plotting\");\n    run_inline_js();\n  } else {\n    load_libs(css_urls, js_urls, function() {\n      console.debug(\"Bokeh: BokehJS plotting callback run at\", now());\n      run_inline_js();\n    });\n  }\n}(window));",
      "application/vnd.bokehjs_load.v0+json": ""
     },
     "metadata": {},
     "output_type": "display_data"
    }
   ],
   "source": [
    "ag3 = malariagen_data.Ag3(pre = True)"
   ]
  },
  {
   "cell_type": "code",
   "execution_count": 4,
   "id": "364bb11b-76c4-4e6e-b342-d41a9f07912c",
   "metadata": {
    "tags": []
   },
   "outputs": [],
   "source": [
    "contig = h12_calibration_contig\n"
   ]
  },
  {
   "cell_type": "markdown",
   "id": "1a281281-2954-46e3-9757-cb3e07b8a403",
   "metadata": {},
   "source": [
    "## Run calibration"
   ]
  },
  {
   "cell_type": "code",
   "execution_count": 6,
   "id": "57bf7410-1693-4e5e-ac0a-9f83880d34ba",
   "metadata": {
    "tags": []
   },
   "outputs": [
    {
     "name": "stdout",
     "output_type": "stream",
     "text": [
      "                                  \r"
     ]
    },
    {
     "data": {
      "application/vnd.jupyter.widget-view+json": {
       "model_id": "1964f271422a4607bae19b3a5c73a5cd",
       "version_major": 2,
       "version_minor": 0
      },
      "text/plain": [
       "Load haplotypes:   0%|          | 0/1584 [00:00<?, ?it/s]"
      ]
     },
     "metadata": {},
     "output_type": "display_data"
    },
    {
     "data": {
      "application/vnd.jupyter.widget-view+json": {
       "model_id": "d2f2a789ef1b4b16a8fd4daf02fa7015",
       "version_major": 2,
       "version_minor": 0
      },
      "text/plain": [
       "Compute H12:   0%|          | 0/8 [00:00<?, ?it/s]"
      ]
     },
     "metadata": {},
     "output_type": "display_data"
    },
    {
     "data": {
      "text/plain": [
       "{'100': array([0.98393453, 0.89225402, 0.82754851, ..., 0.97157675, 0.95399023,\n",
       "        0.95921736]),\n",
       " '200': array([0.85634378, 0.69676889, 0.7920847 , ..., 0.92361519, 0.93487623,\n",
       "        0.90226105]),\n",
       " '500': array([0.47538056, 0.16973315, 0.52784251, ..., 0.63910233, 0.68384363,\n",
       "        0.79838887]),\n",
       " '1000': array([0.07893342, 0.17122564, 0.20940699, ..., 0.61337328, 0.43065133,\n",
       "        0.53480665]),\n",
       " '2000': array([0.02851214, 0.02293833, 0.01348107, ..., 0.28032858, 0.30449195,\n",
       "        0.27348428]),\n",
       " '5000': array([0.00164411, 0.0007187 , 0.00542259, ..., 0.09236622, 0.08138591,\n",
       "        0.13321643]),\n",
       " '10000': array([0.00047658, 0.000849  , 0.00113374, ..., 0.01544692, 0.018376  ,\n",
       "        0.02303927]),\n",
       " '20000': array([0.00045084, 0.0005538 , 0.00045285, 0.00067164, 0.00045889,\n",
       "        0.00062539, 0.00045165, 0.00608659, 0.00172213, 0.0013107 ,\n",
       "        0.00380502, 0.00503811, 0.00375958, 0.00587384, 0.00562489,\n",
       "        0.00494721, 0.00340043, 0.00463432, 0.00171409, 0.00397917,\n",
       "        0.0061256 , 0.00569527, 0.00682097, 0.00432987, 0.00421726,\n",
       "        0.00829978, 0.00545557, 0.00820487, 0.00574353, 0.0071226 ,\n",
       "        0.00546844, 0.00484144, 0.00615416, 0.00415693, 0.00381106,\n",
       "        0.00047699, 0.00044964, 0.00482777, 0.00152386, 0.00599127,\n",
       "        0.00493595, 0.00469786, 0.00657122, 0.00689899, 0.00377003,\n",
       "        0.00774277, 0.00648595, 0.00894569, 0.00680448, 0.00780229,\n",
       "        0.00466207, 0.00847514, 0.00184158, 0.00535502, 0.00792334,\n",
       "        0.00338555, 0.00602425, 0.0100734 , 0.00574996, 0.0045012 ,\n",
       "        0.00694363, 0.00635565, 0.00046251, 0.00051399, 0.00170243,\n",
       "        0.00287357, 0.00302278, 0.00326369, 0.0006278 , 0.00098936,\n",
       "        0.00287518, 0.00355326, 0.00433831, 0.00350379, 0.00251765,\n",
       "        0.00379135, 0.00327294, 0.00298779, 0.00581351, 0.00410666,\n",
       "        0.00229041, 0.00328782, 0.00307386, 0.00229685, 0.0019558 ,\n",
       "        0.00186451, 0.00282692, 0.00266806, 0.00108428, 0.00269259,\n",
       "        0.0028036 , 0.00079994, 0.0036349 , 0.00252046, 0.00161757,\n",
       "        0.0017531 , 0.00263468, 0.0011434 , 0.00317601, 0.0016059 ,\n",
       "        0.00249231, 0.00261698, 0.00047819, 0.00141447, 0.00395303,\n",
       "        0.0007199 , 0.00073478, 0.00171691, 0.00156046, 0.00333608,\n",
       "        0.0023793 , 0.00215649, 0.00119367, 0.00205112, 0.00202216,\n",
       "        0.00302479, 0.00087434, 0.00105773, 0.00423616, 0.00475698,\n",
       "        0.00566149, 0.00450602, 0.00209697, 0.00303887, 0.00307386,\n",
       "        0.00126325, 0.00092099, 0.00227433, 0.00283135, 0.00345834,\n",
       "        0.00196425, 0.00337107, 0.00232178, 0.00543988, 0.0044646 ,\n",
       "        0.00311609, 0.00098614, 0.00214322, 0.00110599, 0.00126405,\n",
       "        0.00053892, 0.00188703, 0.00103481, 0.00288041, 0.00142774,\n",
       "        0.002177  , 0.0025828 , 0.00129261, 0.00212552, 0.00108267,\n",
       "        0.0016614 , 0.00137143, 0.00128899, 0.00102113, 0.00280038,\n",
       "        0.00145549, 0.00154719, 0.00156006, 0.00232782, 0.00161274,\n",
       "        0.00102516, 0.00106899, 0.00167427, 0.00108347, 0.00089767,\n",
       "        0.00084297, 0.00146192, 0.00100103, 0.00072231, 0.00091456,\n",
       "        0.00096684, 0.00363249, 0.00222486, 0.00199401, 0.00078747,\n",
       "        0.00090169, 0.00109192, 0.00109152, 0.00085705, 0.00079511,\n",
       "        0.00150536, 0.00129542, 0.0011076 , 0.00153713, 0.00112449,\n",
       "        0.0009218 , 0.00082447, 0.00064469, 0.00188743, 0.00126606,\n",
       "        0.00081602, 0.00096966, 0.0007931 , 0.00068773, 0.00067244,\n",
       "        0.00080154, 0.00087353, 0.00080557, 0.00072634, 0.00081723,\n",
       "        0.00106457, 0.00108669, 0.00088721, 0.00109031, 0.00100907,\n",
       "        0.00112409, 0.00116069, 0.00094754, 0.00094512, 0.00083452,\n",
       "        0.0007931 , 0.00074805, 0.00079994, 0.00088198, 0.00079632,\n",
       "        0.00075047, 0.00064711, 0.00057391, 0.00055139, 0.00054616,\n",
       "        0.00056265, 0.00057029, 0.00059362, 0.00064872, 0.00065636,\n",
       "        0.00061775, 0.00067968, 0.00057069, 0.00056748, 0.0006455 ,\n",
       "        0.00060327, 0.00054214, 0.00051278, 0.00053651, 0.00049629,\n",
       "        0.00060448, 0.00054898, 0.00047699, 0.00055742, 0.00051761,\n",
       "        0.00051358, 0.0005353 , 0.00052766, 0.00053369, 0.0005526 ,\n",
       "        0.00047055, 0.00054375, 0.00056225, 0.00046774, 0.00060608,\n",
       "        0.00056265, 0.00060247, 0.00065435, 0.00048342, 0.00047135,\n",
       "        0.00053048, 0.00054576, 0.00057351, 0.00054576, 0.00052484,\n",
       "        0.00054375, 0.00047055, 0.00063142, 0.00050353, 0.00052484,\n",
       "        0.00052163, 0.00053892, 0.00054334, 0.00054013, 0.00054053,\n",
       "        0.00052123, 0.00050795, 0.00050474, 0.00048825, 0.00053771,\n",
       "        0.00061051, 0.00060005, 0.00052645, 0.00064711, 0.0006266 ,\n",
       "        0.00064751, 0.00052042, 0.00080637, 0.00063223, 0.00093306,\n",
       "        0.00057069, 0.00052283, 0.0005534 , 0.00050393, 0.00050272,\n",
       "        0.00048784, 0.00054093, 0.00049911, 0.00058035, 0.00050313,\n",
       "        0.00048704, 0.00051037, 0.00051077, 0.00050393, 0.00054938,\n",
       "        0.0005542 , 0.00054616, 0.00052243, 0.00053651, 0.00048704,\n",
       "        0.00048101, 0.00046331, 0.00046934, 0.00051278, 0.0004613 ,\n",
       "        0.00048463, 0.00046894, 0.00045245, 0.00047135, 0.00048382,\n",
       "        0.00049629, 0.00050554, 0.00049307, 0.00049347, 0.00047859,\n",
       "        0.00046412, 0.0004609 , 0.00050192, 0.00048101, 0.00046412,\n",
       "        0.0004605 , 0.00048744, 0.00048945, 0.00046653, 0.00047658,\n",
       "        0.00047457, 0.00046412, 0.0004798 , 0.00048382, 0.00047296,\n",
       "        0.0004613 , 0.00046934, 0.00046934, 0.00047216, 0.00047578,\n",
       "        0.00050594, 0.00048101, 0.00047256, 0.000479  , 0.00047457,\n",
       "        0.00046693, 0.00048704, 0.00047859, 0.00046371, 0.00047176,\n",
       "        0.00046854, 0.00047538, 0.00047578, 0.00047216, 0.00046492,\n",
       "        0.00046653, 0.00046894, 0.00047176, 0.00046572, 0.00048141,\n",
       "        0.00046532, 0.00049066, 0.00049187, 0.00050876, 0.00047658,\n",
       "        0.0004802 , 0.00045084, 0.00048865, 0.00050675, 0.00051117,\n",
       "        0.00048865, 0.00050876, 0.00049629, 0.00051841, 0.00052967,\n",
       "        0.00049911, 0.00050433, 0.00046733, 0.0004609 , 0.00046251,\n",
       "        0.0004609 , 0.00048784, 0.00048382, 0.00047497, 0.00050795,\n",
       "        0.000479  , 0.00046009, 0.00047457, 0.00047699, 0.00046894,\n",
       "        0.00046572, 0.00046009, 0.00048101, 0.00048141, 0.0004605 ,\n",
       "        0.00046291, 0.00044883, 0.00044883, 0.00054495, 0.00050795,\n",
       "        0.00048463, 0.0004605 , 0.00047578, 0.00050152, 0.00048181,\n",
       "        0.00046934, 0.00047216, 0.00046693, 0.00047176, 0.00046532,\n",
       "        0.00046371, 0.00046009, 0.00046613, 0.00045567, 0.00045688,\n",
       "        0.00046814, 0.00047055, 0.00047015, 0.00048503, 0.00047497,\n",
       "        0.0004798 , 0.00050956, 0.0004802 , 0.00046371, 0.00048262,\n",
       "        0.00048262, 0.00046653, 0.00047859, 0.00046653, 0.00046331,\n",
       "        0.00047538, 0.00045527, 0.00051841, 0.00046371, 0.0004613 ,\n",
       "        0.00045688, 0.00046291, 0.00048463, 0.00046331, 0.00050393,\n",
       "        0.00045808, 0.0004806 , 0.00046814, 0.00045326, 0.00046371,\n",
       "        0.00046291, 0.00048422, 0.00045768, 0.0004613 , 0.00046532,\n",
       "        0.00046774, 0.00046975, 0.00047135, 0.00047859, 0.00046009,\n",
       "        0.00045929, 0.00046653, 0.00046412, 0.00046371, 0.00047417,\n",
       "        0.00046934, 0.00047055, 0.00045647, 0.00046492, 0.00046532,\n",
       "        0.00047859, 0.00048342, 0.00047095, 0.00047216, 0.00052082,\n",
       "        0.00046653, 0.00046532, 0.00053812, 0.00051761, 0.00049267,\n",
       "        0.00050433, 0.00050112, 0.00048262, 0.00050554, 0.0004605 ,\n",
       "        0.00045929, 0.00045527, 0.00049629, 0.00048704, 0.00047859,\n",
       "        0.00046492, 0.00045366, 0.00045487, 0.0004798 , 0.00045808,\n",
       "        0.00046371, 0.00045527, 0.00048221, 0.0004617 , 0.00048181,\n",
       "        0.00046452, 0.00048382, 0.00047457, 0.00049026, 0.00046774,\n",
       "        0.0004987 , 0.00048744, 0.00049307, 0.0004798 , 0.0004613 ,\n",
       "        0.00048101, 0.00046331, 0.00047497, 0.00047256, 0.00047658,\n",
       "        0.00046371, 0.00045768, 0.0004621 , 0.0004621 , 0.0004621 ,\n",
       "        0.00045527, 0.0004609 , 0.00045527, 0.00045285, 0.00045889,\n",
       "        0.00045688, 0.00047497, 0.00045567, 0.00046291, 0.00045889,\n",
       "        0.00046009, 0.00045969, 0.00046412, 0.00045205, 0.00047216,\n",
       "        0.00045326, 0.0004617 , 0.00047055, 0.00046371, 0.00045848,\n",
       "        0.00045326, 0.00045406, 0.00046452, 0.00045487, 0.00045487,\n",
       "        0.00045929, 0.00045768, 0.00045889, 0.00046814, 0.00047457,\n",
       "        0.00046774, 0.00046331, 0.00045969, 0.0004609 , 0.00045406,\n",
       "        0.00049388, 0.00049951, 0.00049267, 0.00050433, 0.00052927,\n",
       "        0.00051238, 0.00060367, 0.00054777, 0.00057431, 0.00067043,\n",
       "        0.00075208, 0.00103762, 0.00066842, 0.00086831, 0.00112248,\n",
       "        0.00139516, 0.00214442])}"
      ]
     },
     "execution_count": 6,
     "metadata": {},
     "output_type": "execute_result"
    }
   ],
   "source": [
    "calibration_runs = ag3.h12_calibration(\n",
    "    contig=h12_calibration_contig,\n",
    "    analysis='gamb_colu',\n",
    "    sample_sets=sample_sets,\n",
    "    sample_query=sample_query,\n",
    "    min_cohort_size=None,\n",
    "    max_cohort_size=None,\n",
    "    window_sizes=window_sizes,\n",
    ")\n",
    "calibration_runs"
   ]
  },
  {
   "cell_type": "code",
   "execution_count": 7,
   "id": "aa92376f-7073-43c9-a33d-5edab1628402",
   "metadata": {
    "tags": []
   },
   "outputs": [
    {
     "data": {
      "text/plain": [
       "1000"
      ]
     },
     "execution_count": 7,
     "metadata": {},
     "output_type": "execute_result"
    }
   ],
   "source": [
    "selected_window_size = None\n",
    "for window_size in window_sizes:\n",
    "    x = calibration_runs[str(window_size)]\n",
    "    x95 = np.percentile(x, 95)\n",
    "    if x95 < 0.1:\n",
    "        selected_window_size = window_size\n",
    "        break\n",
    "selected_window_size"
   ]
  },
  {
   "cell_type": "markdown",
   "id": "5ba0820e-7797-48f8-aa48-366937a005bc",
   "metadata": {},
   "source": [
    "## Write outputs"
   ]
  },
  {
   "cell_type": "code",
   "execution_count": 10,
   "id": "f1be8ce6-5174-40ab-8cb4-d131d0649d32",
   "metadata": {
    "tags": []
   },
   "outputs": [],
   "source": [
    "home= '/home/harunnn/lstm_scratch/network_scratch/llineup/llineup-genomics/llineup_publication'\n",
    "outdir =os.path.join(home, \"scripts_notebooks/haplotype_clustering/peak_centre\")\n",
    "os.makedirs(outdir, exist_ok=True)"
   ]
  },
  {
   "cell_type": "code",
   "execution_count": 11,
   "id": "8ee2e373-cafd-40c2-ae84-264fc56b03e3",
   "metadata": {
    "tags": []
   },
   "outputs": [],
   "source": [
    "output = {\n",
    "    \"h12_window_size\": selected_window_size\n",
    "}\n",
    "with open(os.path.join(outdir, f\"{cohort_id}.yaml\"), mode=\"w\") as output_file:\n",
    "    yaml.safe_dump(output, output_file)\n",
    "    "
   ]
  },
  {
   "cell_type": "code",
   "execution_count": null,
   "id": "93169873",
   "metadata": {},
   "outputs": [],
   "source": []
  }
 ],
 "metadata": {
  "celltoolbar": "Tags",
  "kernelspec": {
   "display_name": "Python 3",
   "language": "python",
   "name": "python3"
  },
  "language_info": {
   "codemirror_mode": {
    "name": "ipython",
    "version": 3
   },
   "file_extension": ".py",
   "mimetype": "text/x-python",
   "name": "python",
   "nbconvert_exporter": "python",
   "pygments_lexer": "ipython3",
   "version": "3.10.0"
  }
 },
 "nbformat": 4,
 "nbformat_minor": 5
}
